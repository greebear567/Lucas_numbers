{
 "cells": [
  {
   "cell_type": "code",
   "execution_count": 41,
   "id": "3a28309d",
   "metadata": {},
   "outputs": [],
   "source": [
    "def super_L(n):\n",
    "    result=0\n",
    "    if n==0:\n",
    "        result=2\n",
    "    elif n==1:\n",
    "        result=1\n",
    "    elif n % 6 == 0:\n",
    "        result=super_L(n//6)**6-6*(-1)**(n//6)*super_L(n//6)**4+9*super_L(n//6)**2-2*(-1)**(n//6)\n",
    "    elif n % 5 == 0:\n",
    "        result=super_L(n//5)**5-5*(-1)**(n//5)*super_L(n//5)**3+5*super_L(n//5)\n",
    "    elif n % 4 == 0:\n",
    "        result=super_L(n//4)**4-4*(-1)**(n//4)*super_L(n//4)**2+2\n",
    "    elif n % 3 == 0:\n",
    "        result=super_L(n//3)**3-3*(-1)**(n//3)*super_L(n//3)\n",
    "    elif n % 2 == 0:\n",
    "        result=super_L(n//2)**2-2*(-1)**(n//2)\n",
    "    else:\n",
    "        result=super_L(n-1)+super_L(n-2)\n",
    "    return result"
   ]
  },
  {
   "cell_type": "code",
   "execution_count": 42,
   "id": "7212917a",
   "metadata": {},
   "outputs": [
    {
     "name": "stdout",
     "output_type": "stream",
     "text": [
      "41473935220454921602871195774259272002\n"
     ]
    }
   ],
   "source": [
    "print(super_L(180))"
   ]
  }
 ],
 "metadata": {
  "kernelspec": {
   "display_name": "Python 3 (ipykernel)",
   "language": "python",
   "name": "python3"
  },
  "language_info": {
   "codemirror_mode": {
    "name": "ipython",
    "version": 3
   },
   "file_extension": ".py",
   "mimetype": "text/x-python",
   "name": "python",
   "nbconvert_exporter": "python",
   "pygments_lexer": "ipython3",
   "version": "3.9.10"
  }
 },
 "nbformat": 4,
 "nbformat_minor": 5
}
